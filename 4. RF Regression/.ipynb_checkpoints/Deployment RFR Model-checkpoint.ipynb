{
 "cells": [
  {
   "cell_type": "code",
   "execution_count": 1,
   "id": "0fc9c5ae",
   "metadata": {},
   "outputs": [],
   "source": [
    "import pickle"
   ]
  },
  {
   "cell_type": "code",
   "execution_count": 2,
   "id": "cd5f1d67",
   "metadata": {},
   "outputs": [],
   "source": [
    "model = pickle.load(open(\"Finalized_RFR_Model.sav\",'rb'))"
   ]
  },
  {
   "cell_type": "code",
   "execution_count": 3,
   "id": "7c0e78f9",
   "metadata": {},
   "outputs": [
    {
     "name": "stdout",
     "output_type": "stream",
     "text": [
      "Age: 32\n",
      "BMI: 29\n",
      "Child: 3\n",
      "Gender (Female-0 or male-1): 1\n",
      "Smoker (Yes-1 or No-0): 0\n"
     ]
    }
   ],
   "source": [
    "age_input = int(input('Age: '))\n",
    "bmi_input = int(input('BMI: '))\n",
    "child_input = int(input('Child: '))\n",
    "gender_input = int(input('Gender (Female-0 or male-1): '))\n",
    "smoker_input = int(input('Smoker (Yes-1 or No-0): '))"
   ]
  },
  {
   "cell_type": "code",
   "execution_count": 4,
   "id": "5e2a14c0",
   "metadata": {},
   "outputs": [
    {
     "name": "stderr",
     "output_type": "stream",
     "text": [
      "C:\\Users\\ELCOT\\anaconda3\\Lib\\site-packages\\sklearn\\base.py:464: UserWarning: X does not have valid feature names, but RandomForestRegressor was fitted with feature names\n",
      "  warnings.warn(\n"
     ]
    }
   ],
   "source": [
    "result = model.predict([[age_input,bmi_input,child_input,gender_input,smoker_input]])"
   ]
  },
  {
   "cell_type": "code",
   "execution_count": 5,
   "id": "e97072d8",
   "metadata": {},
   "outputs": [
    {
     "data": {
      "text/plain": [
       "array([6452.19])"
      ]
     },
     "execution_count": 5,
     "metadata": {},
     "output_type": "execute_result"
    }
   ],
   "source": [
    "result"
   ]
  },
  {
   "cell_type": "code",
   "execution_count": null,
   "id": "dcfdf380",
   "metadata": {},
   "outputs": [],
   "source": []
  }
 ],
 "metadata": {
  "kernelspec": {
   "display_name": "Python 3 (ipykernel)",
   "language": "python",
   "name": "python3"
  },
  "language_info": {
   "codemirror_mode": {
    "name": "ipython",
    "version": 3
   },
   "file_extension": ".py",
   "mimetype": "text/x-python",
   "name": "python",
   "nbconvert_exporter": "python",
   "pygments_lexer": "ipython3",
   "version": "3.11.5"
  }
 },
 "nbformat": 4,
 "nbformat_minor": 5
}
