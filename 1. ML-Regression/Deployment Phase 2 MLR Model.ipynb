{
 "cells": [
  {
   "cell_type": "code",
   "execution_count": 1,
   "id": "765fa443",
   "metadata": {},
   "outputs": [],
   "source": [
    "import pickle\n"
   ]
  },
  {
   "cell_type": "code",
   "execution_count": 2,
   "id": "83f816bb",
   "metadata": {},
   "outputs": [],
   "source": [
    "model = pickle.load(open(\"Insurance_Finalized_MLR_Model.sav\",'rb'))\n"
   ]
  },
  {
   "cell_type": "code",
   "execution_count": 4,
   "id": "aa73ba22",
   "metadata": {},
   "outputs": [
    {
     "name": "stdout",
     "output_type": "stream",
     "text": [
      "Age: 32\n",
      "BMI: 29\n",
      "Child: 3\n",
      "Gender (Female-0 or male-1): 1\n",
      "Smoker (Yes-1 or No-0): 0\n"
     ]
    }
   ],
   "source": [
    "age_input = int(input('Age: '))\n",
    "bmi_input = int(input('BMI: '))\n",
    "child_input = int(input('Child: '))\n",
    "gender_input = int(input('Gender (Female-0 or male-1): '))\n",
    "smoker_input = int(input('Smoker (Yes-1 or No-0): '))\n"
   ]
  },
  {
   "cell_type": "code",
   "execution_count": 5,
   "id": "2e19af61",
   "metadata": {},
   "outputs": [
    {
     "name": "stderr",
     "output_type": "stream",
     "text": [
      "C:\\Users\\ELCOT\\anaconda3\\Lib\\site-packages\\sklearn\\base.py:464: UserWarning: X does not have valid feature names, but LinearRegression was fitted with feature names\n",
      "  warnings.warn(\n"
     ]
    }
   ],
   "source": [
    "result = model.predict([[age_input,bmi_input,child_input,gender_input,smoker_input]])"
   ]
  },
  {
   "cell_type": "code",
   "execution_count": 6,
   "id": "b4c94568",
   "metadata": {},
   "outputs": [
    {
     "data": {
      "text/plain": [
       "array([[7035.36064405]])"
      ]
     },
     "execution_count": 6,
     "metadata": {},
     "output_type": "execute_result"
    }
   ],
   "source": [
    "result"
   ]
  },
  {
   "cell_type": "code",
   "execution_count": null,
   "id": "c955b11e",
   "metadata": {},
   "outputs": [],
   "source": []
  }
 ],
 "metadata": {
  "kernelspec": {
   "display_name": "Python 3 (ipykernel)",
   "language": "python",
   "name": "python3"
  },
  "language_info": {
   "codemirror_mode": {
    "name": "ipython",
    "version": 3
   },
   "file_extension": ".py",
   "mimetype": "text/x-python",
   "name": "python",
   "nbconvert_exporter": "python",
   "pygments_lexer": "ipython3",
   "version": "3.11.5"
  }
 },
 "nbformat": 4,
 "nbformat_minor": 5
}
