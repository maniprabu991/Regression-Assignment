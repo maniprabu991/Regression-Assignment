{
 "cells": [
  {
   "cell_type": "code",
   "execution_count": 6,
   "id": "217ccd8a",
   "metadata": {},
   "outputs": [],
   "source": [
    "import pickle\n"
   ]
  },
  {
   "cell_type": "code",
   "execution_count": 7,
   "id": "f8243cf0",
   "metadata": {},
   "outputs": [],
   "source": [
    "model = pickle.load(open(\"Insurance_Finalized_SVM_Model.sav\",'rb'))"
   ]
  },
  {
   "cell_type": "code",
   "execution_count": 8,
   "id": "150b4aa5",
   "metadata": {},
   "outputs": [
    {
     "name": "stdout",
     "output_type": "stream",
     "text": [
      "Age: 32\n",
      "BMI: 29\n",
      "Child: 3\n",
      "Gender (Female-0 or male-1): 1\n",
      "Smoker (Yes-1 or No-0): 0\n"
     ]
    }
   ],
   "source": [
    "age_input = int(input('Age: '))\n",
    "bmi_input = int(input('BMI: '))\n",
    "child_input = int(input('Child: '))\n",
    "gender_input = int(input('Gender (Female-0 or male-1): '))\n",
    "smoker_input = int(input('Smoker (Yes-1 or No-0): '))\n"
   ]
  },
  {
   "cell_type": "code",
   "execution_count": 9,
   "id": "0746e376",
   "metadata": {},
   "outputs": [],
   "source": [
    "result = model.predict([[age_input,bmi_input,child_input,gender_input,smoker_input]])"
   ]
  },
  {
   "cell_type": "code",
   "execution_count": 10,
   "id": "f09360a4",
   "metadata": {},
   "outputs": [
    {
     "data": {
      "text/plain": [
       "array([16541.97525408])"
      ]
     },
     "execution_count": 10,
     "metadata": {},
     "output_type": "execute_result"
    }
   ],
   "source": [
    "result"
   ]
  },
  {
   "cell_type": "code",
   "execution_count": null,
   "id": "4e6ebaf0",
   "metadata": {},
   "outputs": [],
   "source": []
  }
 ],
 "metadata": {
  "kernelspec": {
   "display_name": "Python 3 (ipykernel)",
   "language": "python",
   "name": "python3"
  },
  "language_info": {
   "codemirror_mode": {
    "name": "ipython",
    "version": 3
   },
   "file_extension": ".py",
   "mimetype": "text/x-python",
   "name": "python",
   "nbconvert_exporter": "python",
   "pygments_lexer": "ipython3",
   "version": "3.11.5"
  }
 },
 "nbformat": 4,
 "nbformat_minor": 5
}
